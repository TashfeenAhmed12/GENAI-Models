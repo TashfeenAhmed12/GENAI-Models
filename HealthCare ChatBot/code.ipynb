{
 "cells": [
  {
   "cell_type": "markdown",
   "metadata": {},
   "source": [
    "# Import Libraries"
   ]
  },
  {
   "cell_type": "code",
   "execution_count": 2,
   "metadata": {},
   "outputs": [],
   "source": [
    "import pandas as pd\n",
    "\n",
    "pd.set_option('display.max_columns', 500)\n",
    "pd.set_option('display.max_rows', 500)\n",
    "pd.set_option('display.width', 1000)\n",
    "pd.set_option('display.max_colwidth', 1000)"
   ]
  },
  {
   "cell_type": "code",
   "execution_count": 3,
   "metadata": {},
   "outputs": [],
   "source": [
    "import torch\n",
    "from datasets import Dataset\n",
    "from transformers import AutoTokenizer, AutoModelForSeq2SeqLM, Trainer, TrainingArguments\n",
    "from transformers import AutoTokenizer, AutoModelForCausalLM\n",
    "import torch\n",
    "from torch.utils.data import Dataset, DataLoader\n",
    "from transformers import AutoModelForCausalLM, AutoTokenizer, Trainer, TrainingArguments\n",
    "\n"
   ]
  },
  {
   "cell_type": "markdown",
   "metadata": {},
   "source": [
    "# Import Dataset"
   ]
  },
  {
   "cell_type": "code",
   "execution_count": 4,
   "metadata": {},
   "outputs": [],
   "source": [
    "# Load and preprocess the data\n",
    "df_fine_tuning = pd.read_csv('train.csv')\n",
    "df_fine_tuning = df_fine_tuning.dropna()\n",
    "\n",
    "df_fine_tuning = df_fine_tuning.dropna().apply(lambda x: x.str.strip())\n",
    "df_fine_tuning = df_fine_tuning.sample(n=20, random_state=42)\n",
    "# Shuffle and split the dataset\n",
    "train_data = df_fine_tuning.sample(frac=0.8, random_state=42)\n",
    "eval_data = df_fine_tuning.drop(train_data.index)\n",
    "\n",
    "\n",
    "\n"
   ]
  },
  {
   "cell_type": "code",
   "execution_count": 18,
   "metadata": {},
   "outputs": [
    {
     "data": {
      "text/html": [
       "<div>\n",
       "<style scoped>\n",
       "    .dataframe tbody tr th:only-of-type {\n",
       "        vertical-align: middle;\n",
       "    }\n",
       "\n",
       "    .dataframe tbody tr th {\n",
       "        vertical-align: top;\n",
       "    }\n",
       "\n",
       "    .dataframe thead th {\n",
       "        text-align: right;\n",
       "    }\n",
       "</style>\n",
       "<table border=\"1\" class=\"dataframe\">\n",
       "  <thead>\n",
       "    <tr style=\"text-align: right;\">\n",
       "      <th></th>\n",
       "      <th>Context</th>\n",
       "      <th>Response</th>\n",
       "    </tr>\n",
       "  </thead>\n",
       "  <tbody>\n",
       "    <tr>\n",
       "      <th>3155</th>\n",
       "      <td>We've been in a long distance relationship for two and a half years. I recently saw his phone and saw the people he texts the most and one of them was a  female coworker. I don't know how to approach this situation. How do I ask him about it?.</td>\n",
       "      <td>If you'd like to ask a question, then go ahead and ask!Boyfriend/girlfriend is a close relationship and it is usually understood as an exclusive relationship.  You're definitely entitled to know if your wishes to not have him texting another woman, are being respected.Often people are afraid to ask because they fear the truth will hurt them.In the short term this is definitely true.In the long term, knowing you are getting what you want and at the very least stating your expectations to your boyfriend, will clarify for him, what is meaningful in your relationship.</td>\n",
       "    </tr>\n",
       "    <tr>\n",
       "      <th>864</th>\n",
       "      <td>My fiancé and I broke up. He cheated on me numerous times. I kept forgiving but questioning his every move. He got tired and left.</td>\n",
       "      <td>Cheating on you shows a lack of commitment, in addition to the emotional hurt it creates.Probably you didn't actually forgive him because if you did, then you wouldn't have been asking questions of his every move.Maybe you were open to forgiving him.   In order for forgiveness to be effective, the person who has done the injuring must first show some understanding and empathy for the great pain the person caused in you.From what you write, your fiancé didn't seem to have much interest in earning back your trust or in empathizing with the way his cheating effected you.It is very likely his tiredness is also tiredness you feel, of having to watch him all the time.As uncomfortable as adjusting with the disappointment of him leaving you, the situation you describe sounds like it was unsatisfying for both of you.</td>\n",
       "    </tr>\n",
       "    <tr>\n",
       "      <th>3256</th>\n",
       "      <td>Does counseling really do anything that can help people?</td>\n",
       "      <td>I believe that counseling (and finding a GOOD therapist)\\r\\nwill be of significant help when the individual seeking therapy desires change,\\r\\nimprovement, and overall growth. Most counseling involves homework and a level\\r\\nof commitment outside of session that also contributes to resolution of\\r\\nproblems and an ability to cope with stresses in a productive way. Here are\\r\\nsome of the key ways that therapy can help. \\n1. Helps to define the problem and gain a clearer\\r\\nunderstanding of where it originates. Many people seek counseling because of symptoms they are\\r\\nexperiencing. These can include feeling sad, increased sleeping, substance use,\\r\\npanic attacks, self-harm, isolating one’s self, academic decline, etc. Often\\r\\ntimes, people are not aware of what is causing these symptoms. Having a\\r\\ntherapist to help guide and explore why the symptoms are occurring and where\\r\\nthey come from will give individuals increased insight and awareness into their\\r\\nproblems. \\n2. Allo...</td>\n",
       "    </tr>\n",
       "    <tr>\n",
       "      <th>315</th>\n",
       "      <td>I have no real friends. I have a girlfriend who irritates me but loves me to death. I push her away and pushes me away. We’re going through a breakup, and I have nobody.</td>\n",
       "      <td>Having time all to yourself may be necessary so you have time to reflect on your own identity and values, become more clear on what matters most to you, and with this increased self-understanding, be able to attract people who will feel like satisfying friends.Having a relationship with someone whom you push away and are pushed away, with someone who is irritating, seems to have limited benefit for each of you.Maybe you are together from fear of being alone, and being alone is exactly what you may now need in your life in order to draw more favorable people to you.</td>\n",
       "    </tr>\n",
       "    <tr>\n",
       "      <th>506</th>\n",
       "      <td>I’ve been on 0.5 mg of Xanax twice a day for the past month. It hasn't been helping me at all, but when I take 1 mg during a big anxiety attack, it calms me down. I was wondering how I can ask my psychologist to up the dose to 1 mg twice a day without her thinking I'm abusing them. I just have very big anxiety attacks. Should I stay on the 0.5mg and deal with the attacks or should I ask to up the dose? I'm afraid she will take me off them and put me on something else.</td>\n",
       "      <td>Do you think you're abusing xanax?It is a highly addictive drug so maybe one reason you feel compelled to take more is bc you already are addicted.Drugs don't do anything helpful in solving life's problems.   Once the effect wears off, the stressful situation is once again waiting for you to address it.Think over your reason for not directly asking your psychologist about upping your dose.Also, do you ever talk about your life problems with this psychologist or only your need for drugs?    The more gradual path to a better life is to not need drugs in the first place. This consists of your willingness to face the matters that are creating such terrible feelings inside you.</td>\n",
       "    </tr>\n",
       "  </tbody>\n",
       "</table>\n",
       "</div>"
      ],
      "text/plain": [
       "                                                                                                                                                                                                                                                                                                                                                                                                                                                                                       Context  \\\n",
       "3155                                                                                                                                                                                                                                       We've been in a long distance relationship for two and a half years. I recently saw his phone and saw the people he texts the most and one of them was a  female coworker. I don't know how to approach this situation. How do I ask him about it?.   \n",
       "864                                                                                                                                                                                                                                                                                                                                                         My fiancé and I broke up. He cheated on me numerous times. I kept forgiving but questioning his every move. He got tired and left.   \n",
       "3256                                                                                                                                                                                                                                                                                                                                                                                                                                  Does counseling really do anything that can help people?   \n",
       "315                                                                                                                                                                                                                                                                                                                  I have no real friends. I have a girlfriend who irritates me but loves me to death. I push her away and pushes me away. We’re going through a breakup, and I have nobody.   \n",
       "506   I’ve been on 0.5 mg of Xanax twice a day for the past month. It hasn't been helping me at all, but when I take 1 mg during a big anxiety attack, it calms me down. I was wondering how I can ask my psychologist to up the dose to 1 mg twice a day without her thinking I'm abusing them. I just have very big anxiety attacks. Should I stay on the 0.5mg and deal with the attacks or should I ask to up the dose? I'm afraid she will take me off them and put me on something else.   \n",
       "\n",
       "                                                                                                                                                                                                                                                                                                                                                                                                                                                                                                                                                                                                                                                                                                                                                                                                                                                                                                                                                                                                                                     Response  \n",
       "3155                                                                                                                                                                                                                                                                                                                                                                                                                                               If you'd like to ask a question, then go ahead and ask!Boyfriend/girlfriend is a close relationship and it is usually understood as an exclusive relationship.  You're definitely entitled to know if your wishes to not have him texting another woman, are being respected.Often people are afraid to ask because they fear the truth will hurt them.In the short term this is definitely true.In the long term, knowing you are getting what you want and at the very least stating your expectations to your boyfriend, will clarify for him, what is meaningful in your relationship.  \n",
       "864                                                                                                                                                                                       Cheating on you shows a lack of commitment, in addition to the emotional hurt it creates.Probably you didn't actually forgive him because if you did, then you wouldn't have been asking questions of his every move.Maybe you were open to forgiving him.   In order for forgiveness to be effective, the person who has done the injuring must first show some understanding and empathy for the great pain the person caused in you.From what you write, your fiancé didn't seem to have much interest in earning back your trust or in empathizing with the way his cheating effected you.It is very likely his tiredness is also tiredness you feel, of having to watch him all the time.As uncomfortable as adjusting with the disappointment of him leaving you, the situation you describe sounds like it was unsatisfying for both of you.  \n",
       "3256  I believe that counseling (and finding a GOOD therapist)\\r\\nwill be of significant help when the individual seeking therapy desires change,\\r\\nimprovement, and overall growth. Most counseling involves homework and a level\\r\\nof commitment outside of session that also contributes to resolution of\\r\\nproblems and an ability to cope with stresses in a productive way. Here are\\r\\nsome of the key ways that therapy can help. \\n1. Helps to define the problem and gain a clearer\\r\\nunderstanding of where it originates. Many people seek counseling because of symptoms they are\\r\\nexperiencing. These can include feeling sad, increased sleeping, substance use,\\r\\npanic attacks, self-harm, isolating one’s self, academic decline, etc. Often\\r\\ntimes, people are not aware of what is causing these symptoms. Having a\\r\\ntherapist to help guide and explore why the symptoms are occurring and where\\r\\nthey come from will give individuals increased insight and awareness into their\\r\\nproblems. \\n2. Allo...  \n",
       "315                                                                                                                                                                                                                                                                                                                                                                                                                                               Having time all to yourself may be necessary so you have time to reflect on your own identity and values, become more clear on what matters most to you, and with this increased self-understanding, be able to attract people who will feel like satisfying friends.Having a relationship with someone whom you push away and are pushed away, with someone who is irritating, seems to have limited benefit for each of you.Maybe you are together from fear of being alone, and being alone is exactly what you may now need in your life in order to draw more favorable people to you.  \n",
       "506                                                                                                                                                                                                                                                                                                                                 Do you think you're abusing xanax?It is a highly addictive drug so maybe one reason you feel compelled to take more is bc you already are addicted.Drugs don't do anything helpful in solving life's problems.   Once the effect wears off, the stressful situation is once again waiting for you to address it.Think over your reason for not directly asking your psychologist about upping your dose.Also, do you ever talk about your life problems with this psychologist or only your need for drugs?    The more gradual path to a better life is to not need drugs in the first place. This consists of your willingness to face the matters that are creating such terrible feelings inside you.  "
      ]
     },
     "execution_count": 18,
     "metadata": {},
     "output_type": "execute_result"
    }
   ],
   "source": [
    "train_data.head()"
   ]
  },
  {
   "cell_type": "code",
   "execution_count": 5,
   "metadata": {},
   "outputs": [
    {
     "name": "stderr",
     "output_type": "stream",
     "text": [
      "C:\\Users\\tashf\\AppData\\Roaming\\Python\\Python310\\site-packages\\huggingface_hub\\file_download.py:1150: FutureWarning: `resume_download` is deprecated and will be removed in version 1.0.0. Downloads always resume when possible. If you want to force a new download, use `force_download=True`.\n",
      "  warnings.warn(\n",
      "c:\\Users\\tashf\\anaconda3\\lib\\site-packages\\torch\\_utils.py:831: UserWarning: TypedStorage is deprecated. It will be removed in the future and UntypedStorage will be the only storage class. This should only matter to you if you are using storages directly.  To access UntypedStorage directly, use tensor.untyped_storage() instead of tensor.storage()\n",
      "  return self.fget.__get__(instance, owner)()\n"
     ]
    }
   ],
   "source": [
    "tokenizer = AutoTokenizer.from_pretrained(\"microsoft/DialoGPT-medium\")\n",
    "model = AutoModelForCausalLM.from_pretrained(\"microsoft/DialoGPT-medium\")\n",
    "# Set the eos_token as the pad_token\n",
    "tokenizer.pad_token = tokenizer.eos_token"
   ]
  },
  {
   "cell_type": "code",
   "execution_count": 6,
   "metadata": {},
   "outputs": [],
   "source": [
    "# Define the custom dataset class\n",
    "class ChatDataset(Dataset):\n",
    "    def __init__(self, dataframe, tokenizer, source_max_length=512, target_max_length=512):\n",
    "        self.tokenizer = tokenizer\n",
    "        self.data = dataframe\n",
    "        self.source_max_length = source_max_length\n",
    "        self.target_max_length = target_max_length\n",
    "\n",
    "    def __len__(self):\n",
    "        return len(self.data)\n",
    "\n",
    "    def __getitem__(self, index):\n",
    "        row = self.data.iloc[index]\n",
    "        source_text = row['Context']\n",
    "        target_text = row['Response']\n",
    "\n",
    "        # Tokenize and encode the source and target texts\n",
    "        source_encoding = self.tokenizer(\n",
    "            source_text,\n",
    "            max_length=self.source_max_length,\n",
    "            padding='max_length',\n",
    "            truncation=True,\n",
    "            return_tensors='pt'\n",
    "        )\n",
    "\n",
    "        target_encoding = self.tokenizer(\n",
    "            target_text,\n",
    "            max_length=self.target_max_length,\n",
    "            padding='max_length',\n",
    "            truncation=True,\n",
    "            return_tensors='pt'\n",
    "        )\n",
    "\n",
    "        labels = target_encoding['input_ids']\n",
    "        labels[labels == self.tokenizer.pad_token_id] = -100  # Ignore padding in loss calculation\n",
    "\n",
    "        return {\n",
    "            'input_ids': source_encoding['input_ids'].flatten(),\n",
    "            'attention_mask': source_encoding['attention_mask'].flatten(),\n",
    "            'labels': labels.flatten()\n",
    "        }\n",
    "\n",
    "# Create datasets\n",
    "train_dataset = ChatDataset(train_data, tokenizer)\n",
    "eval_dataset = ChatDataset(eval_data, tokenizer)\n",
    "\n",
    "# Create DataLoaders\n",
    "train_dataloader = DataLoader(train_dataset, batch_size=2, shuffle=True)\n",
    "eval_dataloader = DataLoader(eval_dataset, batch_size=2)"
   ]
  },
  {
   "cell_type": "code",
   "execution_count": 7,
   "metadata": {},
   "outputs": [],
   "source": [
    "train_dataloader = DataLoader(train_dataset, batch_size=2, shuffle=True)\n",
    "eval_dataloader = DataLoader(eval_dataset, batch_size=2)\n"
   ]
  },
  {
   "cell_type": "code",
   "execution_count": 8,
   "metadata": {},
   "outputs": [
    {
     "name": "stderr",
     "output_type": "stream",
     "text": [
      "c:\\Users\\tashf\\anaconda3\\lib\\site-packages\\accelerate\\accelerator.py:451: FutureWarning: Passing the following arguments to `Accelerator` is deprecated and will be removed in version 1.0 of Accelerate: dict_keys(['dispatch_batches', 'split_batches', 'even_batches', 'use_seedable_sampler']). Please pass an `accelerate.DataLoaderConfiguration` instead: \n",
      "dataloader_config = DataLoaderConfiguration(dispatch_batches=None, split_batches=False, even_batches=True, use_seedable_sampler=True)\n",
      "  warnings.warn(\n"
     ]
    },
    {
     "data": {
      "application/vnd.jupyter.widget-view+json": {
       "model_id": "fc776d1b046e42908c0774053124c012",
       "version_major": 2,
       "version_minor": 0
      },
      "text/plain": [
       "  0%|          | 0/40 [00:00<?, ?it/s]"
      ]
     },
     "metadata": {},
     "output_type": "display_data"
    },
    {
     "data": {
      "application/vnd.jupyter.widget-view+json": {
       "model_id": "2768a9a9bd1c4ab5b7889186ce715a28",
       "version_major": 2,
       "version_minor": 0
      },
      "text/plain": [
       "  0%|          | 0/1 [00:00<?, ?it/s]"
      ]
     },
     "metadata": {},
     "output_type": "display_data"
    },
    {
     "name": "stdout",
     "output_type": "stream",
     "text": [
      "{'eval_loss': 12.897117614746094, 'eval_runtime': 24.4133, 'eval_samples_per_second': 0.164, 'eval_steps_per_second': 0.041, 'epoch': 1.0}\n"
     ]
    },
    {
     "data": {
      "application/vnd.jupyter.widget-view+json": {
       "model_id": "6de918db5f644fe1bc57ebe0442a9020",
       "version_major": 2,
       "version_minor": 0
      },
      "text/plain": [
       "  0%|          | 0/1 [00:00<?, ?it/s]"
      ]
     },
     "metadata": {},
     "output_type": "display_data"
    },
    {
     "name": "stdout",
     "output_type": "stream",
     "text": [
      "{'eval_loss': 12.76581859588623, 'eval_runtime': 24.7207, 'eval_samples_per_second': 0.162, 'eval_steps_per_second': 0.04, 'epoch': 2.0}\n",
      "{'loss': 12.8748, 'grad_norm': 41.050167083740234, 'learning_rate': 1.0000000000000002e-06, 'epoch': 2.5}\n"
     ]
    },
    {
     "data": {
      "application/vnd.jupyter.widget-view+json": {
       "model_id": "c7faa039e84e4d6ca703034487c3981f",
       "version_major": 2,
       "version_minor": 0
      },
      "text/plain": [
       "  0%|          | 0/1 [00:00<?, ?it/s]"
      ]
     },
     "metadata": {},
     "output_type": "display_data"
    },
    {
     "name": "stdout",
     "output_type": "stream",
     "text": [
      "{'eval_loss': 12.55701732635498, 'eval_runtime': 25.032, 'eval_samples_per_second': 0.16, 'eval_steps_per_second': 0.04, 'epoch': 3.0}\n"
     ]
    },
    {
     "data": {
      "application/vnd.jupyter.widget-view+json": {
       "model_id": "d49900bb688d491e94dbf50056ba97f3",
       "version_major": 2,
       "version_minor": 0
      },
      "text/plain": [
       "  0%|          | 0/1 [00:00<?, ?it/s]"
      ]
     },
     "metadata": {},
     "output_type": "display_data"
    },
    {
     "name": "stdout",
     "output_type": "stream",
     "text": [
      "{'eval_loss': 12.224666595458984, 'eval_runtime': 26.8472, 'eval_samples_per_second': 0.149, 'eval_steps_per_second': 0.037, 'epoch': 4.0}\n",
      "{'loss': 12.1989, 'grad_norm': 28.59435272216797, 'learning_rate': 2.0000000000000003e-06, 'epoch': 5.0}\n"
     ]
    },
    {
     "data": {
      "application/vnd.jupyter.widget-view+json": {
       "model_id": "892daabe7f004db1a579a4946060cbbf",
       "version_major": 2,
       "version_minor": 0
      },
      "text/plain": [
       "  0%|          | 0/1 [00:00<?, ?it/s]"
      ]
     },
     "metadata": {},
     "output_type": "display_data"
    },
    {
     "name": "stdout",
     "output_type": "stream",
     "text": [
      "{'eval_loss': 11.708990097045898, 'eval_runtime': 25.6936, 'eval_samples_per_second': 0.156, 'eval_steps_per_second': 0.039, 'epoch': 5.0}\n"
     ]
    },
    {
     "data": {
      "application/vnd.jupyter.widget-view+json": {
       "model_id": "e8da057bb57744c4953ebb8b1c3161bc",
       "version_major": 2,
       "version_minor": 0
      },
      "text/plain": [
       "  0%|          | 0/1 [00:00<?, ?it/s]"
      ]
     },
     "metadata": {},
     "output_type": "display_data"
    },
    {
     "name": "stdout",
     "output_type": "stream",
     "text": [
      "{'eval_loss': 11.06491756439209, 'eval_runtime': 25.044, 'eval_samples_per_second': 0.16, 'eval_steps_per_second': 0.04, 'epoch': 6.0}\n"
     ]
    },
    {
     "data": {
      "application/vnd.jupyter.widget-view+json": {
       "model_id": "537bcc09b36441a7867f76af3c1a0710",
       "version_major": 2,
       "version_minor": 0
      },
      "text/plain": [
       "  0%|          | 0/1 [00:00<?, ?it/s]"
      ]
     },
     "metadata": {},
     "output_type": "display_data"
    },
    {
     "name": "stdout",
     "output_type": "stream",
     "text": [
      "{'eval_loss': 10.324220657348633, 'eval_runtime': 24.9819, 'eval_samples_per_second': 0.16, 'eval_steps_per_second': 0.04, 'epoch': 7.0}\n",
      "{'loss': 10.6917, 'grad_norm': 20.367816925048828, 'learning_rate': 3e-06, 'epoch': 7.5}\n"
     ]
    },
    {
     "data": {
      "application/vnd.jupyter.widget-view+json": {
       "model_id": "af22d5c122cc4c93b6b0c7bf153cbbdc",
       "version_major": 2,
       "version_minor": 0
      },
      "text/plain": [
       "  0%|          | 0/1 [00:00<?, ?it/s]"
      ]
     },
     "metadata": {},
     "output_type": "display_data"
    },
    {
     "name": "stdout",
     "output_type": "stream",
     "text": [
      "{'eval_loss': 9.618768692016602, 'eval_runtime': 24.4475, 'eval_samples_per_second': 0.164, 'eval_steps_per_second': 0.041, 'epoch': 8.0}\n"
     ]
    },
    {
     "data": {
      "application/vnd.jupyter.widget-view+json": {
       "model_id": "40dc70271dda46d292c749eb27f254bb",
       "version_major": 2,
       "version_minor": 0
      },
      "text/plain": [
       "  0%|          | 0/1 [00:00<?, ?it/s]"
      ]
     },
     "metadata": {},
     "output_type": "display_data"
    },
    {
     "name": "stdout",
     "output_type": "stream",
     "text": [
      "{'eval_loss': 9.166402816772461, 'eval_runtime': 24.7115, 'eval_samples_per_second': 0.162, 'eval_steps_per_second': 0.04, 'epoch': 9.0}\n",
      "{'loss': 9.7787, 'grad_norm': 22.05019760131836, 'learning_rate': 4.000000000000001e-06, 'epoch': 10.0}\n"
     ]
    },
    {
     "data": {
      "application/vnd.jupyter.widget-view+json": {
       "model_id": "1d008b87fcf44db89755a897bc8e700f",
       "version_major": 2,
       "version_minor": 0
      },
      "text/plain": [
       "  0%|          | 0/1 [00:00<?, ?it/s]"
      ]
     },
     "metadata": {},
     "output_type": "display_data"
    },
    {
     "name": "stdout",
     "output_type": "stream",
     "text": [
      "{'eval_loss': 8.789209365844727, 'eval_runtime': 25.2268, 'eval_samples_per_second': 0.159, 'eval_steps_per_second': 0.04, 'epoch': 10.0}\n",
      "{'train_runtime': 6650.1843, 'train_samples_per_second': 0.024, 'train_steps_per_second': 0.006, 'train_loss': 11.386017417907714, 'epoch': 10.0}\n"
     ]
    },
    {
     "data": {
      "text/plain": [
       "TrainOutput(global_step=40, training_loss=11.386017417907714, metrics={'train_runtime': 6650.1843, 'train_samples_per_second': 0.024, 'train_steps_per_second': 0.006, 'train_loss': 11.386017417907714, 'epoch': 10.0})"
      ]
     },
     "execution_count": 8,
     "metadata": {},
     "output_type": "execute_result"
    }
   ],
   "source": [
    "training_args = TrainingArguments(\n",
    "    output_dir='./results',          # Output directory\n",
    "    num_train_epochs=10,              # Total number of training epochs\n",
    "    per_device_train_batch_size=5,   # Batch size per device during training\n",
    "    per_device_eval_batch_size=5,    # Batch size for evaluation\n",
    "    warmup_steps=500,                # Number of warmup steps for learning rate scheduler\n",
    "    weight_decay=0.01,               # Strength of weight decay\n",
    "    logging_dir='./logs',            # Directory for storing logs\n",
    "    report_to=\"none\",\n",
    "    logging_steps=10,\n",
    "    evaluation_strategy=\"epoch\",\n",
    "    save_total_limit=2\n",
    ")\n",
    "\n",
    "trainer = Trainer(\n",
    "    model=model,                         # The pre-trained model\n",
    "    args=training_args,                  # Training arguments\n",
    "    train_dataset=train_dataset,         # Training dataset\n",
    "    eval_dataset=eval_dataset            # Evaluation dataset\n",
    ")\n",
    "\n",
    "\n",
    "trainer.train()\n"
   ]
  },
  {
   "cell_type": "code",
   "execution_count": 9,
   "metadata": {},
   "outputs": [
    {
     "data": {
      "text/plain": [
       "('./fine_tuned_model\\\\tokenizer_config.json',\n",
       " './fine_tuned_model\\\\special_tokens_map.json',\n",
       " './fine_tuned_model\\\\vocab.json',\n",
       " './fine_tuned_model\\\\merges.txt',\n",
       " './fine_tuned_model\\\\added_tokens.json',\n",
       " './fine_tuned_model\\\\tokenizer.json')"
      ]
     },
     "execution_count": 9,
     "metadata": {},
     "output_type": "execute_result"
    }
   ],
   "source": [
    "# Save the fine-tuned model\n",
    "model.save_pretrained('./fine_tuned_model')\n",
    "tokenizer.save_pretrained('./fine_tuned_model')\n"
   ]
  },
  {
   "cell_type": "code",
   "execution_count": 1,
   "metadata": {},
   "outputs": [
    {
     "name": "stderr",
     "output_type": "stream",
     "text": [
      "A decoder-only architecture is being used, but right-padding was detected! For correct generation results, please set `padding_side='left'` when initializing the tokenizer.\n"
     ]
    },
    {
     "name": "stdout",
     "output_type": "stream",
     "text": [
      "DialoGPT: I'm good, how are you?\n"
     ]
    },
    {
     "name": "stderr",
     "output_type": "stream",
     "text": [
      "A decoder-only architecture is being used, but right-padding was detected! For correct generation results, please set `padding_side='left'` when initializing the tokenizer.\n"
     ]
    },
    {
     "name": "stdout",
     "output_type": "stream",
     "text": [
      "DialoGPT: That's good\n"
     ]
    },
    {
     "name": "stderr",
     "output_type": "stream",
     "text": [
      "A decoder-only architecture is being used, but right-padding was detected! For correct generation results, please set `padding_side='left'` when initializing the tokenizer.\n"
     ]
    },
    {
     "name": "stdout",
     "output_type": "stream",
     "text": [
      "DialoGPT: I'm not sure what to do\n"
     ]
    },
    {
     "name": "stderr",
     "output_type": "stream",
     "text": [
      "A decoder-only architecture is being used, but right-padding was detected! For correct generation results, please set `padding_side='left'` when initializing the tokenizer.\n"
     ]
    },
    {
     "name": "stdout",
     "output_type": "stream",
     "text": [
      "DialoGPT: I'm sorry\n"
     ]
    },
    {
     "name": "stderr",
     "output_type": "stream",
     "text": [
      "A decoder-only architecture is being used, but right-padding was detected! For correct generation results, please set `padding_side='left'` when initializing the tokenizer.\n"
     ]
    },
    {
     "name": "stdout",
     "output_type": "stream",
     "text": [
      "DialoGPT: I can't help you\n"
     ]
    }
   ],
   "source": [
    "from transformers import AutoModelForCausalLM, AutoTokenizer\n",
    "import torch\n",
    "\n",
    "# Load the fine-tuned model and tokenizer from the saved directory\n",
    "tokenizer = AutoTokenizer.from_pretrained('./fine_tuned_model', padding_side='left')\n",
    "model = AutoModelForCausalLM.from_pretrained('./fine_tuned_model')\n",
    "\n",
    "# Let's chat for 5 lines\n",
    "for step in range(5):\n",
    "    # encode the new user input, add the eos_token and return a tensor in Pytorch\n",
    "    new_user_input_ids = tokenizer.encode(input(\">> User:\") + tokenizer.eos_token, return_tensors='pt')\n",
    "\n",
    "    # append the new user input tokens to the chat history\n",
    "    bot_input_ids = torch.cat([chat_history_ids, new_user_input_ids], dim=-1) if step > 0 else new_user_input_ids\n",
    "\n",
    "    # generated a response while limiting the total chat history to 1000 tokens, \n",
    "    chat_history_ids = model.generate(bot_input_ids, max_length=1000, pad_token_id=tokenizer.eos_token_id)\n",
    "\n",
    "    # pretty print last ouput tokens from bot\n",
    "    print(\"DialoGPT: {}\".format(tokenizer.decode(chat_history_ids[:, bot_input_ids.shape[-1]:][0], skip_special_tokens=True)))\n",
    "\n"
   ]
  },
  {
   "cell_type": "code",
   "execution_count": null,
   "metadata": {},
   "outputs": [],
   "source": []
  }
 ],
 "metadata": {
  "kernelspec": {
   "display_name": "base",
   "language": "python",
   "name": "python3"
  },
  "language_info": {
   "codemirror_mode": {
    "name": "ipython",
    "version": 3
   },
   "file_extension": ".py",
   "mimetype": "text/x-python",
   "name": "python",
   "nbconvert_exporter": "python",
   "pygments_lexer": "ipython3",
   "version": "3.10.13"
  }
 },
 "nbformat": 4,
 "nbformat_minor": 2
}
